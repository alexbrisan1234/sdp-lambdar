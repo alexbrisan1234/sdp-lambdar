{
 "cells": [
  {
   "cell_type": "markdown",
   "metadata": {},
   "source": [
    "# Timing"
   ]
  },
  {
   "cell_type": "code",
   "execution_count": 137,
   "metadata": {
    "collapsed": true
   },
   "outputs": [],
   "source": [
    "from __future__ import division, print_function \n",
    "import os\n",
    "import sys\n",
    "import numpy as np"
   ]
  },
  {
   "cell_type": "code",
   "execution_count": 138,
   "metadata": {
    "scrolled": true
   },
   "outputs": [],
   "source": [
    "results = np.loadtxt('test.txt', delimiter=',')\n",
    "col0= results[:,0].reshape(1000,1)\n",
    "col1 = results[:,1].reshape(1000,1)\n",
    "col2 = results[:,2].reshape(1000,1)"
   ]
  },
  {
   "cell_type": "code",
   "execution_count": 139,
   "metadata": {},
   "outputs": [
    {
     "name": "stdout",
     "output_type": "stream",
     "text": [
      "Mean of time needed for motor calls: [ 0.07114141] [ 0.00038187]\n"
     ]
    }
   ],
   "source": [
    "A = col2 - col1\n",
    "print('Mean of time needed for motor calls:',A.mean(axis=0), A.var(axis=0))"
   ]
  },
  {
   "cell_type": "code",
   "execution_count": 140,
   "metadata": {},
   "outputs": [
    {
     "name": "stdout",
     "output_type": "stream",
     "text": [
      "Mean of time needed for actuate without motor: [ 0.02945616] [ 0.00015254]\n"
     ]
    }
   ],
   "source": [
    "B = col1 - col0\n",
    "print('Mean of time needed for actuate without motor:',B.mean(axis=0), B.var(axis=0))"
   ]
  },
  {
   "cell_type": "code",
   "execution_count": 143,
   "metadata": {},
   "outputs": [
    {
     "name": "stdout",
     "output_type": "stream",
     "text": [
      "Mean of time for whole iteration: [ 0.23140431] [ 0.00261963]\n"
     ]
    }
   ],
   "source": [
    "before = col0\n",
    "after = col0[1::]\n",
    "C= np.array(list(subtract(zip(before,after))))\n",
    "print('Mean of time for whole iteration:',C.mean(axis=0), C.var(axis=0))"
   ]
  },
  {
   "cell_type": "markdown",
   "metadata": {},
   "source": [
    "Columns:  \n",
    "0: Before Actuate  \n",
    "1: Inside actuate, before motor update  \n",
    "2: Inside actuate, after motor update  \n",
    "\n",
    "Mean & variance for  \n",
    "A: motor function call (2 - 1)  \n",
    "B: actuate function, without the time needed for motor update (1 - 0)  \n",
    "C: live function (any column)  "
   ]
  },
  {
   "cell_type": "code",
   "execution_count": 142,
   "metadata": {},
   "outputs": [],
   "source": [
    "def subtract(x):\n",
    "    return [k - i for (i,k) in x]"
   ]
  }
 ],
 "metadata": {
  "anaconda-cloud": {},
  "kernelspec": {
   "display_name": "Python 2",
   "language": "python",
   "name": "python2"
  },
  "language_info": {
   "codemirror_mode": {
    "name": "ipython",
    "version": 2
   },
   "file_extension": ".py",
   "mimetype": "text/x-python",
   "name": "python",
   "nbconvert_exporter": "python",
   "pygments_lexer": "ipython2",
   "version": "2.7.13"
  }
 },
 "nbformat": 4,
 "nbformat_minor": 1
}
