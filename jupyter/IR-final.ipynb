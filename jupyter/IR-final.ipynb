{
 "cells": [
  {
   "cell_type": "code",
   "execution_count": null,
   "metadata": {
    "collapsed": true
   },
   "outputs": [],
   "source": [
    "%matplotlib inline\n",
    "\n",
    "import numpy as np\n",
    "import matplotlib.pyplot as plt\n",
    "import pandas as pd\n",
    "import seaborn as sns\n",
    "\n",
    "# Set common default style for plots\n",
    "sns.set(context='notebook', style='whitegrid', font_scale=2.0, rc={'figure.figsize': (16,16)})"
   ]
  },
  {
   "cell_type": "markdown",
   "metadata": {},
   "source": [
    "# Fetch data\n",
    "We have 100 voltage measurements for each of the 25 true distances.\n",
    "_(The unit of voltage is some fraction of Volt, the actual value is not important.)_"
   ]
  },
  {
   "cell_type": "code",
   "execution_count": null,
   "metadata": {
    "collapsed": false
   },
   "outputs": [],
   "source": [
    "data = pd.read_csv('data/ir-final.csv')\n",
    "data.describe()"
   ]
  },
  {
   "cell_type": "code",
   "execution_count": null,
   "metadata": {
    "collapsed": true
   },
   "outputs": [],
   "source": [
    "trueDists = [5,10,15,20,25,30,35,40,45,50,55,60,65,70,75,80,85,90,95,100,150,200,250,300,500]"
   ]
  },
  {
   "cell_type": "markdown",
   "metadata": {},
   "source": [
    "# Voltage vs. True Distance"
   ]
  },
  {
   "cell_type": "code",
   "execution_count": null,
   "metadata": {
    "collapsed": false
   },
   "outputs": [],
   "source": [
    "# We only need the mean voltages (to plot them) and standard deviations (for error bars)\n",
    "voltages = data.describe().loc[['mean', 'std']]\n",
    "voltages.loc['dist'] = trueDists\n",
    "voltages"
   ]
  },
  {
   "cell_type": "code",
   "execution_count": null,
   "metadata": {
    "collapsed": false
   },
   "outputs": [],
   "source": [
    "plt.errorbar(voltages.loc['dist'], voltages.loc['mean'], yerr=voltages.loc['std'],\n",
    "             color='black',\n",
    "             ecolor='red', barsabove=True, elinewidth=1.3, capthick=1.0, capsize=5)\n",
    "plt.minorticks_on()\n",
    "plt.grid(b=True, which='minor', color='grey', linestyle='--', linewidth=0.5)\n",
    "plt.grid(b=True, which='major', color='grey', linestyle='-', linewidth=1.0)\n",
    "plt.xlabel('True distance [cm]')\n",
    "plt.ylabel('Voltage')\n",
    "plt.show()"
   ]
  },
  {
   "cell_type": "markdown",
   "metadata": {},
   "source": [
    "# Measured Distance vs True Distance\n",
    "Here we convert the voltages to distances and look at the data again."
   ]
  },
  {
   "cell_type": "code",
   "execution_count": null,
   "metadata": {
    "collapsed": true
   },
   "outputs": [],
   "source": [
    "# Voltage to distance conversion function\n",
    "f = lambda x: 4800/(x-20) if x > 20 else 4800"
   ]
  },
  {
   "cell_type": "code",
   "execution_count": null,
   "metadata": {
    "collapsed": false
   },
   "outputs": [],
   "source": [
    "# Convert and show staticstics\n",
    "data.applymap(f).describe()"
   ]
  },
  {
   "cell_type": "code",
   "execution_count": null,
   "metadata": {
    "collapsed": false
   },
   "outputs": [],
   "source": [
    "# Create numpy array with all the measured distances\n",
    "dists = data.applymap(f).get_values()\n",
    "mean_dists = dists.mean(axis=0)\n",
    "print(dists.shape)\n",
    "print(mean_dists.round())"
   ]
  },
  {
   "cell_type": "markdown",
   "metadata": {},
   "source": [
    "The errors for large distances are not normally distributed after the conversion - their distribution is skewed significantly. Hence we cannot use standard deviation for the error bars (it would go too far down and make it look like we can get false positives even though we never did)."
   ]
  },
  {
   "cell_type": "code",
   "execution_count": null,
   "metadata": {
    "collapsed": false
   },
   "outputs": [],
   "source": [
    "plt.scatter(np.tile(trueDists, 100), dists.flatten(), marker='x', linewidth=0.5, color='r')\n",
    "plt.minorticks_on()\n",
    "plt.grid(b=True, which='minor', color='grey', linestyle='--', linewidth=0.5)\n",
    "plt.grid(b=True, which='major', color='grey', linestyle='-', linewidth=1.0)\n",
    "plt.xlabel('True distance [cm]')\n",
    "plt.ylabel('Measured distance [cm]')\n",
    "plt.title('All collected datapoints')\n",
    "plt.show()"
   ]
  },
  {
   "cell_type": "code",
   "execution_count": null,
   "metadata": {
    "collapsed": false
   },
   "outputs": [],
   "source": [
    "plt.plot(trueDists, mean_dists, 'ko-', linewidth=1)\n",
    "plt.scatter(np.tile(trueDists, 100), dists.flatten(), marker='+', s=40, linewidth=1.5, color='r')\n",
    "plt.plot([-5,500], [-5,500], 'b--')\n",
    "\n",
    "plt.xlim(-5,405)\n",
    "plt.ylim(-5,405)\n",
    "plt.minorticks_on()\n",
    "plt.grid(b=True, which='minor', color='grey', linestyle='--', linewidth=0.5)\n",
    "plt.grid(b=True, which='major', color='grey', linestyle='-', linewidth=1.0)\n",
    "plt.xlabel('True distance [cm]')\n",
    "plt.ylabel('Measured distance [cm]')\n",
    "plt.title('Zoomed in version of the all datapoints graph')\n",
    "plt.legend(('Mean measured distance', 'True distance', 'Individual datapoints'), frameon=True, fancybox=True)\n",
    "\n",
    "plt.show()"
   ]
  },
  {
   "cell_type": "markdown",
   "metadata": {},
   "source": [
    "## Adding some BS error bars\n",
    "Since we can't use standard deviation, I'll try to hack it with percentiles. Basically, I take the ~3rd smallest and ~3rd largest value as the boundaries of an error bar."
   ]
  },
  {
   "cell_type": "code",
   "execution_count": null,
   "metadata": {
    "collapsed": false
   },
   "outputs": [],
   "source": [
    "dist_arr = data.applymap(f).get_values()\n",
    "upper = np.percentile(dist_arr, 98, axis=0) - dist_arr.mean(axis=0)\n",
    "lower = np.percentile(dist_arr, 2, axis=0) - dist_arr.mean(axis=0)\n",
    "print(upper)\n",
    "print(lower)"
   ]
  },
  {
   "cell_type": "code",
   "execution_count": null,
   "metadata": {
    "collapsed": false
   },
   "outputs": [],
   "source": [
    "plt.errorbar(trueDists, mean_dists, yerr=np.array([-lower, upper]),\n",
    "             fmt='ko-',\n",
    "             ecolor='red', barsabove=True, elinewidth=1.5, capthick=1.0, capsize=5)\n",
    "plt.plot([-5,500], [-5,500], 'b--')\n",
    "\n",
    "plt.xlim(-5,405)\n",
    "plt.ylim(-5,405)\n",
    "plt.minorticks_on()\n",
    "plt.grid(b=True, which='minor', color='grey', linestyle='--', linewidth=0.5)\n",
    "plt.grid(b=True, which='major', color='grey', linestyle='-', linewidth=1.0)\n",
    "plt.xlabel('True distance [cm]')\n",
    "plt.ylabel('Measured distance [cm]')\n",
    "plt.title('Measured Distance vs True Distance')\n",
    "plt.legend(('True distance', 'Mean measured distance'), frameon=True, fancybox=True)\n",
    "\n",
    "plt.show()"
   ]
  }
 ],
 "metadata": {
  "kernelspec": {
   "display_name": "Python 3",
   "language": "python",
   "name": "python3"
  },
  "language_info": {
   "codemirror_mode": {
    "name": "ipython",
    "version": 3
   },
   "file_extension": ".py",
   "mimetype": "text/x-python",
   "name": "python",
   "nbconvert_exporter": "python",
   "pygments_lexer": "ipython3",
   "version": "3.4.5"
  }
 },
 "nbformat": 4,
 "nbformat_minor": 2
}
